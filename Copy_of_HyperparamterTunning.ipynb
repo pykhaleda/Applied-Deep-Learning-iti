{
 "cells": [
  {
   "cell_type": "code",
   "execution_count": 1,
   "id": "fHyV-HbrDNrA",
   "metadata": {
    "colab": {
     "base_uri": "https://localhost:8080/"
    },
    "id": "fHyV-HbrDNrA",
    "outputId": "05fe842f-c520-4b67-8980-fe6806812094"
   },
   "outputs": [
    {
     "name": "stdout",
     "output_type": "stream",
     "text": [
      "Collecting scikeras\n",
      "  Downloading scikeras-0.12.0-py3-none-any.whl (27 kB)\n",
      "Requirement already satisfied: packaging>=0.21 in /usr/local/lib/python3.10/dist-packages (from scikeras) (23.2)\n",
      "Requirement already satisfied: scikit-learn>=1.0.0 in /usr/local/lib/python3.10/dist-packages (from scikeras) (1.2.2)\n",
      "Requirement already satisfied: numpy>=1.17.3 in /usr/local/lib/python3.10/dist-packages (from scikit-learn>=1.0.0->scikeras) (1.23.5)\n",
      "Requirement already satisfied: scipy>=1.3.2 in /usr/local/lib/python3.10/dist-packages (from scikit-learn>=1.0.0->scikeras) (1.11.4)\n",
      "Requirement already satisfied: joblib>=1.1.1 in /usr/local/lib/python3.10/dist-packages (from scikit-learn>=1.0.0->scikeras) (1.3.2)\n",
      "Requirement already satisfied: threadpoolctl>=2.0.0 in /usr/local/lib/python3.10/dist-packages (from scikit-learn>=1.0.0->scikeras) (3.2.0)\n",
      "Installing collected packages: scikeras\n",
      "Successfully installed scikeras-0.12.0\n"
     ]
    }
   ],
   "source": [
    "!pip install scikeras"
   ]
  },
  {
   "cell_type": "code",
   "execution_count": 1,
   "id": "d4762095-5fec-416c-bca8-2db39f5419d3",
   "metadata": {
    "id": "d4762095-5fec-416c-bca8-2db39f5419d3"
   },
   "outputs": [
    {
     "name": "stdout",
     "output_type": "stream",
     "text": [
      "WARNING:tensorflow:From C:\\Users\\elwady\\anaconda3\\Lib\\site-packages\\keras\\src\\losses.py:2976: The name tf.losses.sparse_softmax_cross_entropy is deprecated. Please use tf.compat.v1.losses.sparse_softmax_cross_entropy instead.\n",
      "\n"
     ]
    }
   ],
   "source": [
    "# Use scikit-learn to grid search\n",
    "import numpy as np\n",
    "from sklearn.model_selection import GridSearchCV\n",
    "from keras.models import Sequential\n",
    "from keras.layers import Dense , Dropout\n",
    "from scikeras.wrappers import KerasClassifier\n",
    "from keras.constraints import max_norm\n",
    "from keras.optimizers import SGD"
   ]
  },
  {
   "cell_type": "markdown",
   "id": "63fdff7e-982c-42d2-ad2b-4b4264a1549e",
   "metadata": {},
   "source": [
    "# 1- Tuning the  batch size and epochs "
   ]
  },
  {
   "cell_type": "code",
   "execution_count": 3,
   "id": "3ae95fac-da5f-42e8-b0f3-743516f3839d",
   "metadata": {
    "colab": {
     "base_uri": "https://localhost:8080/"
    },
    "id": "3ae95fac-da5f-42e8-b0f3-743516f3839d",
    "outputId": "ec5df52a-e9dc-471b-c233-8bab5cd1477e"
   },
   "outputs": [
    {
     "name": "stderr",
     "output_type": "stream",
     "text": [
      "/usr/local/lib/python3.10/dist-packages/joblib/externals/loky/process_executor.py:752: UserWarning: A worker stopped while some jobs were given to the executor. This can be caused by a too short worker timeout or by a memory leak.\n",
      "  warnings.warn(\n",
      "/usr/local/lib/python3.10/dist-packages/joblib/externals/loky/process_executor.py:752: UserWarning: A worker stopped while some jobs were given to the executor. This can be caused by a too short worker timeout or by a memory leak.\n",
      "  warnings.warn(\n"
     ]
    },
    {
     "name": "stdout",
     "output_type": "stream",
     "text": [
      "best : 0.713542 using {'batch_size': 20, 'epochs': 150}\n",
      "0.626302 (0.030647) with: {'batch_size': 10, 'epochs': 10}\n",
      "0.674479 (0.003683) with: {'batch_size': 10, 'epochs': 50}\n",
      "0.692708 (0.047771) with: {'batch_size': 10, 'epochs': 150}\n",
      "0.553385 (0.053019) with: {'batch_size': 20, 'epochs': 10}\n",
      "0.657552 (0.012890) with: {'batch_size': 20, 'epochs': 50}\n",
      "0.713542 (0.009207) with: {'batch_size': 20, 'epochs': 150}\n",
      "0.585938 (0.070385) with: {'batch_size': 40, 'epochs': 10}\n",
      "0.674479 (0.012075) with: {'batch_size': 40, 'epochs': 50}\n",
      "0.677083 (0.032578) with: {'batch_size': 40, 'epochs': 150}\n",
      "0.520833 (0.051855) with: {'batch_size': 50, 'epochs': 10}\n",
      "0.623698 (0.017566) with: {'batch_size': 50, 'epochs': 50}\n",
      "0.686198 (0.022402) with: {'batch_size': 50, 'epochs': 150}\n",
      "0.511719 (0.065907) with: {'batch_size': 80, 'epochs': 10}\n",
      "0.605469 (0.031412) with: {'batch_size': 80, 'epochs': 50}\n",
      "0.683594 (0.022326) with: {'batch_size': 80, 'epochs': 150}\n",
      "0.510417 (0.035277) with: {'batch_size': 100, 'epochs': 10}\n",
      "0.604167 (0.020505) with: {'batch_size': 100, 'epochs': 50}\n",
      "0.631510 (0.012075) with: {'batch_size': 100, 'epochs': 150}\n"
     ]
    }
   ],
   "source": [
    "def Creat_model():\n",
    "    # creat model\n",
    "    model = Sequential()\n",
    "    model.add(Dense(12, activation='relu', input_dim=8))\n",
    "    model.add (Dense(1, activation='sigmoid'))\n",
    "    # compile model\n",
    "    model.compile(loss='binary_crossentropy', optimizer='adam', metrics=['accuracy'])\n",
    "    return model\n",
    "# fix random seed for reproducibility\n",
    "seed = 7\n",
    "np.random.seed(seed)\n",
    "\n",
    "# load dataset\n",
    "dataset = np.loadtxt(\"pima-indians-diabetes.csv\", delimiter=\",\")\n",
    "# split the dataset to features and target\n",
    "X = dataset[:, 0:8]  # input features\n",
    "y = dataset[:, 8 ]    # target\n",
    "# creat model\n",
    "model = KerasClassifier(model=Creat_model, verbose=0)\n",
    "# define the grid search parameters\n",
    "batch_size = [10, 20, 40, 50, 80, 100]\n",
    "epochs = [10, 50, 150]\n",
    "param_grid = dict(batch_size=batch_size, epochs=epochs)\n",
    "grid = GridSearchCV(estimator=model, param_grid=param_grid, n_jobs=-1, cv=3)\n",
    "grid_result = grid.fit(X, y)\n",
    "\n",
    "# define the grid search parameters\n",
    "batch_size = [10, 20, 40, 50, 80, 100]\n",
    "epochs = [10, 50, 150]\n",
    "param_grid = dict(batch_size=batch_size, epochs=epochs)\n",
    "grid = GridSearchCV(estimator=model, param_grid=param_grid, n_jobs=-1, cv=3)\n",
    "grid_result = grid.fit(X, y)\n",
    "\n",
    "# summarize results\n",
    "print(\"best : %f using %s\" % (grid_result.best_score_, grid_result.best_params_ ))\n",
    "means = grid_result.cv_results_['mean_test_score']\n",
    "stds = grid_result.cv_results_['std_test_score']\n",
    "params = grid_result.cv_results_['params']\n",
    "for mean, stdev , param in zip(means, stds, params):\n",
    "  print(\"%f (%f) with: %r\" % (mean, stdev, param))"
   ]
  },
  {
   "cell_type": "markdown",
   "id": "e1e065bc-2909-4a56-a1ea-dc7dccb7ff9e",
   "metadata": {
    "id": "e1e065bc-2909-4a56-a1ea-dc7dccb7ff9e"
   },
   "source": [
    "# 2- Tuning the best Optimizer"
   ]
  },
  {
   "cell_type": "code",
   "execution_count": 4,
   "id": "466547a8-d60b-4cec-8e6f-a77c87390fc1",
   "metadata": {
    "colab": {
     "base_uri": "https://localhost:8080/"
    },
    "id": "466547a8-d60b-4cec-8e6f-a77c87390fc1",
    "outputId": "b7eb216d-d793-41ca-a52d-76887956ad3c"
   },
   "outputs": [
    {
     "name": "stdout",
     "output_type": "stream",
     "text": [
      "best : 0.703125 using {'optimizer': 'Adam'}\n",
      "0.697917 (0.015073) with: {'optimizer': 'SGD'}\n",
      "0.682292 (0.009207) with: {'optimizer': 'RMSprop'}\n",
      "0.678385 (0.009207) with: {'optimizer': 'Adagrad'}\n",
      "0.696615 (0.020505) with: {'optimizer': 'adadelta'}\n",
      "0.703125 (0.016877) with: {'optimizer': 'Adam'}\n",
      "0.679688 (0.014616) with: {'optimizer': 'Adamax'}\n",
      "0.692708 (0.011201) with: {'optimizer': 'Nadam'}\n"
     ]
    }
   ],
   "source": [
    "def Creat_model(optimizer='adam'):\n",
    "    # creat model\n",
    "    model = Sequential()\n",
    "    model.add(Dense(12, activation='relu', input_dim=8))\n",
    "    model.add (Dense(1, activation='sigmoid'))\n",
    "    # compile model\n",
    "\n",
    "    model.compile(loss='binary_crossentropy', optimizer=optimizer, metrics=['accuracy'])\n",
    "    return model\n",
    "# fix random seed for reproducibility\n",
    "seed = 7\n",
    "np.random.seed(seed)\n",
    "\n",
    "# load dataset\n",
    "dataset = np.loadtxt(\"pima-indians-diabetes.csv\", delimiter=\",\")\n",
    "# split the dataset to features and target\n",
    "X = dataset[:, 0:8]  # input features\n",
    "y = dataset[:, 8 ]    # target\n",
    "\n",
    "\n",
    "# creat model\n",
    "model = KerasClassifier(model=Creat_model, batch_size=20, epochs=150, verbose=0)\n",
    "\n",
    "# define the grid serach parameters\n",
    "optimizer = ['SGD', 'RMSprop', 'Adagrad', 'adadelta', 'Adam', 'Adamax', 'Nadam']\n",
    "param_grid = dict(optimizer=optimizer)\n",
    "grid = GridSearchCV(estimator=model, param_grid=param_grid, n_jobs=-1, cv=3)\n",
    "grid_result = grid.fit(X, y)\n",
    "\n",
    "# summarize results\n",
    "print(\"best : %f using %s\" % (grid_result.best_score_, grid_result.best_params_ ))\n",
    "means = grid_result.cv_results_['mean_test_score']\n",
    "stds = grid_result.cv_results_['std_test_score']\n",
    "params = grid_result.cv_results_['params']\n",
    "for mean, stdev , param in zip(means, stds, params):\n",
    "  print(\"%f (%f) with: %r\" % (mean, stdev, param))"
   ]
  },
  {
   "cell_type": "markdown",
   "id": "e170dfa2-8db7-40f2-b85f-6abf16ed97b8",
   "metadata": {
    "id": "e170dfa2-8db7-40f2-b85f-6abf16ed97b8"
   },
   "source": [
    "# 3- Tuning activation Function"
   ]
  },
  {
   "cell_type": "code",
   "execution_count": 5,
   "id": "a19c3569-f62b-4217-bad3-43d1b80f0d13",
   "metadata": {
    "colab": {
     "base_uri": "https://localhost:8080/"
    },
    "id": "a19c3569-f62b-4217-bad3-43d1b80f0d13",
    "outputId": "3017c932-2e85-4cbd-bcee-99d4f31bf693"
   },
   "outputs": [
    {
     "name": "stdout",
     "output_type": "stream",
     "text": [
      "best : 0.731771 using {'activation': 'softplus'}\n",
      "0.662760 (0.014731) with: {'activation': 'softmax'}\n",
      "0.731771 (0.025780) with: {'activation': 'softplus'}\n",
      "0.667969 (0.011500) with: {'activation': 'softsign'}\n",
      "0.716146 (0.023073) with: {'activation': 'relu'}\n",
      "0.680990 (0.033804) with: {'activation': 'tanh'}\n",
      "0.697917 (0.038051) with: {'activation': 'sigmoid'}\n",
      "0.679688 (0.016877) with: {'activation': 'hard_sigmoid'}\n",
      "0.725260 (0.012890) with: {'activation': 'linear'}\n"
     ]
    }
   ],
   "source": [
    "def Creat_model(activation='relu'):\n",
    "    #activation = 'relu'\n",
    "    # creat model\n",
    "    model = Sequential()\n",
    "    model.add(Dense(12, kernel_initializer='uniform', activation=activation, input_dim=8))\n",
    "    model.add (Dense(1, kernel_initializer='uniform', activation='sigmoid'))\n",
    "    # compile model\n",
    "\n",
    "    model.compile(loss='binary_crossentropy', optimizer='adam', metrics=['accuracy'])\n",
    "    return model\n",
    "\n",
    "# fix random seed for reproducibility\n",
    "seed = 7\n",
    "np.random.seed(seed)\n",
    "# load dataset\n",
    "dataset = np.loadtxt(\"pima-indians-diabetes.csv\", delimiter=\",\")\n",
    "# split the dataset to features and target\n",
    "X = dataset[:, 0:8]  # input features\n",
    "y = dataset[:, 8 ]    # target\n",
    "\n",
    "# creat model\n",
    "#model = KerasClassifier(build_fn=Creat_model, batch_size=20, epochs=150, verbose=0)\n",
    "model = KerasClassifier(model=Creat_model, batch_size=20, epochs=150, verbose=0, activation='relu')\n",
    "\n",
    "# define the grid serach parameters\n",
    "activation = ['softmax', 'softplus', 'softsign', 'relu', 'tanh', 'sigmoid', 'hard_sigmoid', 'linear']\n",
    "param_grid = dict(activation=activation)\n",
    "grid = GridSearchCV(estimator=model, param_grid=param_grid, n_jobs=-1, cv=3)\n",
    "grid_result = grid.fit(X, y)\n",
    "\n",
    "\n",
    "# summarize results\n",
    "print(\"best : %f using %s\" % (grid_result.best_score_, grid_result.best_params_ ))\n",
    "means = grid_result.cv_results_['mean_test_score']\n",
    "stds = grid_result.cv_results_['std_test_score']\n",
    "params = grid_result.cv_results_['params']\n",
    "for mean, stdev , param in zip(means, stds, params):\n",
    "  print(\"%f (%f) with: %r\" % (mean, stdev, param))"
   ]
  },
  {
   "cell_type": "code",
   "execution_count": null,
   "id": "ec3ff751-2d0f-4875-b537-11b204821336",
   "metadata": {
    "id": "ec3ff751-2d0f-4875-b537-11b204821336"
   },
   "outputs": [],
   "source": []
  },
  {
   "cell_type": "markdown",
   "id": "0c138b64-72d3-4d06-b3dc-6a80c98c008a",
   "metadata": {
    "id": "0c138b64-72d3-4d06-b3dc-6a80c98c008a"
   },
   "source": [
    "# 4- Tuning dropout reqularization"
   ]
  },
  {
   "cell_type": "code",
   "execution_count": null,
   "id": "cfaefac3-f3cd-4766-a8e9-e1553a2d4254",
   "metadata": {
    "id": "cfaefac3-f3cd-4766-a8e9-e1553a2d4254",
    "outputId": "45467cbe-009d-497c-85c2-5188b867c702",
    "scrolled": true
   },
   "outputs": [
    {
     "name": "stderr",
     "output_type": "stream",
     "text": [
      "C:\\Users\\elwady\\anaconda3\\Lib\\site-packages\\scikeras\\wrappers.py:915: UserWarning: ``build_fn`` will be renamed to ``model`` in a future release, at which point use of ``build_fn`` will raise an Error instead.\n",
      "  X, y = self._initialize(X, y)\n",
      "C:\\Users\\elwady\\anaconda3\\Lib\\site-packages\\scikeras\\wrappers.py:915: UserWarning: ``build_fn`` will be renamed to ``model`` in a future release, at which point use of ``build_fn`` will raise an Error instead.\n",
      "  X, y = self._initialize(X, y)\n",
      "C:\\Users\\elwady\\anaconda3\\Lib\\site-packages\\scikeras\\wrappers.py:915: UserWarning: ``build_fn`` will be renamed to ``model`` in a future release, at which point use of ``build_fn`` will raise an Error instead.\n",
      "  X, y = self._initialize(X, y)\n",
      "C:\\Users\\elwady\\anaconda3\\Lib\\site-packages\\scikeras\\wrappers.py:915: UserWarning: ``build_fn`` will be renamed to ``model`` in a future release, at which point use of ``build_fn`` will raise an Error instead.\n",
      "  X, y = self._initialize(X, y)\n",
      "C:\\Users\\elwady\\anaconda3\\Lib\\site-packages\\scikeras\\wrappers.py:915: UserWarning: ``build_fn`` will be renamed to ``model`` in a future release, at which point use of ``build_fn`` will raise an Error instead.\n",
      "  X, y = self._initialize(X, y)\n",
      "C:\\Users\\elwady\\anaconda3\\Lib\\site-packages\\scikeras\\wrappers.py:915: UserWarning: ``build_fn`` will be renamed to ``model`` in a future release, at which point use of ``build_fn`` will raise an Error instead.\n",
      "  X, y = self._initialize(X, y)\n",
      "C:\\Users\\elwady\\anaconda3\\Lib\\site-packages\\scikeras\\wrappers.py:915: UserWarning: ``build_fn`` will be renamed to ``model`` in a future release, at which point use of ``build_fn`` will raise an Error instead.\n",
      "  X, y = self._initialize(X, y)\n",
      "C:\\Users\\elwady\\anaconda3\\Lib\\site-packages\\scikeras\\wrappers.py:915: UserWarning: ``build_fn`` will be renamed to ``model`` in a future release, at which point use of ``build_fn`` will raise an Error instead.\n",
      "  X, y = self._initialize(X, y)\n",
      "C:\\Users\\elwady\\anaconda3\\Lib\\site-packages\\scikeras\\wrappers.py:915: UserWarning: ``build_fn`` will be renamed to ``model`` in a future release, at which point use of ``build_fn`` will raise an Error instead.\n",
      "  X, y = self._initialize(X, y)\n",
      "C:\\Users\\elwady\\anaconda3\\Lib\\site-packages\\scikeras\\wrappers.py:915: UserWarning: ``build_fn`` will be renamed to ``model`` in a future release, at which point use of ``build_fn`` will raise an Error instead.\n",
      "  X, y = self._initialize(X, y)\n",
      "C:\\Users\\elwady\\anaconda3\\Lib\\site-packages\\scikeras\\wrappers.py:915: UserWarning: ``build_fn`` will be renamed to ``model`` in a future release, at which point use of ``build_fn`` will raise an Error instead.\n",
      "  X, y = self._initialize(X, y)\n",
      "C:\\Users\\elwady\\anaconda3\\Lib\\site-packages\\scikeras\\wrappers.py:915: UserWarning: ``build_fn`` will be renamed to ``model`` in a future release, at which point use of ``build_fn`` will raise an Error instead.\n",
      "  X, y = self._initialize(X, y)\n",
      "C:\\Users\\elwady\\anaconda3\\Lib\\site-packages\\scikeras\\wrappers.py:915: UserWarning: ``build_fn`` will be renamed to ``model`` in a future release, at which point use of ``build_fn`` will raise an Error instead.\n",
      "  X, y = self._initialize(X, y)\n",
      "C:\\Users\\elwady\\anaconda3\\Lib\\site-packages\\scikeras\\wrappers.py:915: UserWarning: ``build_fn`` will be renamed to ``model`` in a future release, at which point use of ``build_fn`` will raise an Error instead.\n",
      "  X, y = self._initialize(X, y)\n",
      "C:\\Users\\elwady\\anaconda3\\Lib\\site-packages\\scikeras\\wrappers.py:915: UserWarning: ``build_fn`` will be renamed to ``model`` in a future release, at which point use of ``build_fn`` will raise an Error instead.\n",
      "  X, y = self._initialize(X, y)\n",
      "C:\\Users\\elwady\\anaconda3\\Lib\\site-packages\\scikeras\\wrappers.py:915: UserWarning: ``build_fn`` will be renamed to ``model`` in a future release, at which point use of ``build_fn`` will raise an Error instead.\n",
      "  X, y = self._initialize(X, y)\n",
      "C:\\Users\\elwady\\anaconda3\\Lib\\site-packages\\scikeras\\wrappers.py:915: UserWarning: ``build_fn`` will be renamed to ``model`` in a future release, at which point use of ``build_fn`` will raise an Error instead.\n",
      "  X, y = self._initialize(X, y)\n",
      "C:\\Users\\elwady\\anaconda3\\Lib\\site-packages\\scikeras\\wrappers.py:915: UserWarning: ``build_fn`` will be renamed to ``model`` in a future release, at which point use of ``build_fn`` will raise an Error instead.\n",
      "  X, y = self._initialize(X, y)\n",
      "C:\\Users\\elwady\\anaconda3\\Lib\\site-packages\\scikeras\\wrappers.py:915: UserWarning: ``build_fn`` will be renamed to ``model`` in a future release, at which point use of ``build_fn`` will raise an Error instead.\n",
      "  X, y = self._initialize(X, y)\n",
      "C:\\Users\\elwady\\anaconda3\\Lib\\site-packages\\scikeras\\wrappers.py:915: UserWarning: ``build_fn`` will be renamed to ``model`` in a future release, at which point use of ``build_fn`` will raise an Error instead.\n",
      "  X, y = self._initialize(X, y)\n",
      "C:\\Users\\elwady\\anaconda3\\Lib\\site-packages\\scikeras\\wrappers.py:915: UserWarning: ``build_fn`` will be renamed to ``model`` in a future release, at which point use of ``build_fn`` will raise an Error instead.\n",
      "  X, y = self._initialize(X, y)\n",
      "C:\\Users\\elwady\\anaconda3\\Lib\\site-packages\\scikeras\\wrappers.py:915: UserWarning: ``build_fn`` will be renamed to ``model`` in a future release, at which point use of ``build_fn`` will raise an Error instead.\n",
      "  X, y = self._initialize(X, y)\n",
      "C:\\Users\\elwady\\anaconda3\\Lib\\site-packages\\scikeras\\wrappers.py:915: UserWarning: ``build_fn`` will be renamed to ``model`` in a future release, at which point use of ``build_fn`` will raise an Error instead.\n",
      "  X, y = self._initialize(X, y)\n",
      "C:\\Users\\elwady\\anaconda3\\Lib\\site-packages\\scikeras\\wrappers.py:915: UserWarning: ``build_fn`` will be renamed to ``model`` in a future release, at which point use of ``build_fn`` will raise an Error instead.\n",
      "  X, y = self._initialize(X, y)\n",
      "C:\\Users\\elwady\\anaconda3\\Lib\\site-packages\\scikeras\\wrappers.py:915: UserWarning: ``build_fn`` will be renamed to ``model`` in a future release, at which point use of ``build_fn`` will raise an Error instead.\n",
      "  X, y = self._initialize(X, y)\n",
      "C:\\Users\\elwady\\anaconda3\\Lib\\site-packages\\scikeras\\wrappers.py:915: UserWarning: ``build_fn`` will be renamed to ``model`` in a future release, at which point use of ``build_fn`` will raise an Error instead.\n",
      "  X, y = self._initialize(X, y)\n",
      "C:\\Users\\elwady\\anaconda3\\Lib\\site-packages\\scikeras\\wrappers.py:915: UserWarning: ``build_fn`` will be renamed to ``model`` in a future release, at which point use of ``build_fn`` will raise an Error instead.\n",
      "  X, y = self._initialize(X, y)\n",
      "C:\\Users\\elwady\\anaconda3\\Lib\\site-packages\\scikeras\\wrappers.py:915: UserWarning: ``build_fn`` will be renamed to ``model`` in a future release, at which point use of ``build_fn`` will raise an Error instead.\n",
      "  X, y = self._initialize(X, y)\n",
      "C:\\Users\\elwady\\anaconda3\\Lib\\site-packages\\scikeras\\wrappers.py:915: UserWarning: ``build_fn`` will be renamed to ``model`` in a future release, at which point use of ``build_fn`` will raise an Error instead.\n",
      "  X, y = self._initialize(X, y)\n",
      "C:\\Users\\elwady\\anaconda3\\Lib\\site-packages\\scikeras\\wrappers.py:915: UserWarning: ``build_fn`` will be renamed to ``model`` in a future release, at which point use of ``build_fn`` will raise an Error instead.\n",
      "  X, y = self._initialize(X, y)\n",
      "C:\\Users\\elwady\\anaconda3\\Lib\\site-packages\\scikeras\\wrappers.py:915: UserWarning: ``build_fn`` will be renamed to ``model`` in a future release, at which point use of ``build_fn`` will raise an Error instead.\n",
      "  X, y = self._initialize(X, y)\n",
      "C:\\Users\\elwady\\anaconda3\\Lib\\site-packages\\scikeras\\wrappers.py:915: UserWarning: ``build_fn`` will be renamed to ``model`` in a future release, at which point use of ``build_fn`` will raise an Error instead.\n",
      "  X, y = self._initialize(X, y)\n",
      "C:\\Users\\elwady\\anaconda3\\Lib\\site-packages\\scikeras\\wrappers.py:915: UserWarning: ``build_fn`` will be renamed to ``model`` in a future release, at which point use of ``build_fn`` will raise an Error instead.\n",
      "  X, y = self._initialize(X, y)\n",
      "C:\\Users\\elwady\\anaconda3\\Lib\\site-packages\\scikeras\\wrappers.py:915: UserWarning: ``build_fn`` will be renamed to ``model`` in a future release, at which point use of ``build_fn`` will raise an Error instead.\n",
      "  X, y = self._initialize(X, y)\n",
      "C:\\Users\\elwady\\anaconda3\\Lib\\site-packages\\scikeras\\wrappers.py:915: UserWarning: ``build_fn`` will be renamed to ``model`` in a future release, at which point use of ``build_fn`` will raise an Error instead.\n",
      "  X, y = self._initialize(X, y)\n",
      "C:\\Users\\elwady\\anaconda3\\Lib\\site-packages\\scikeras\\wrappers.py:915: UserWarning: ``build_fn`` will be renamed to ``model`` in a future release, at which point use of ``build_fn`` will raise an Error instead.\n",
      "  X, y = self._initialize(X, y)\n",
      "C:\\Users\\elwady\\anaconda3\\Lib\\site-packages\\scikeras\\wrappers.py:915: UserWarning: ``build_fn`` will be renamed to ``model`` in a future release, at which point use of ``build_fn`` will raise an Error instead.\n",
      "  X, y = self._initialize(X, y)\n",
      "C:\\Users\\elwady\\anaconda3\\Lib\\site-packages\\scikeras\\wrappers.py:915: UserWarning: ``build_fn`` will be renamed to ``model`` in a future release, at which point use of ``build_fn`` will raise an Error instead.\n",
      "  X, y = self._initialize(X, y)\n",
      "C:\\Users\\elwady\\anaconda3\\Lib\\site-packages\\scikeras\\wrappers.py:915: UserWarning: ``build_fn`` will be renamed to ``model`` in a future release, at which point use of ``build_fn`` will raise an Error instead.\n",
      "  X, y = self._initialize(X, y)\n",
      "C:\\Users\\elwady\\anaconda3\\Lib\\site-packages\\scikeras\\wrappers.py:915: UserWarning: ``build_fn`` will be renamed to ``model`` in a future release, at which point use of ``build_fn`` will raise an Error instead.\n",
      "  X, y = self._initialize(X, y)\n",
      "C:\\Users\\elwady\\anaconda3\\Lib\\site-packages\\scikeras\\wrappers.py:915: UserWarning: ``build_fn`` will be renamed to ``model`` in a future release, at which point use of ``build_fn`` will raise an Error instead.\n",
      "  X, y = self._initialize(X, y)\n",
      "C:\\Users\\elwady\\anaconda3\\Lib\\site-packages\\scikeras\\wrappers.py:915: UserWarning: ``build_fn`` will be renamed to ``model`` in a future release, at which point use of ``build_fn`` will raise an Error instead.\n",
      "  X, y = self._initialize(X, y)\n",
      "C:\\Users\\elwady\\anaconda3\\Lib\\site-packages\\scikeras\\wrappers.py:915: UserWarning: ``build_fn`` will be renamed to ``model`` in a future release, at which point use of ``build_fn`` will raise an Error instead.\n",
      "  X, y = self._initialize(X, y)\n",
      "C:\\Users\\elwady\\anaconda3\\Lib\\site-packages\\scikeras\\wrappers.py:915: UserWarning: ``build_fn`` will be renamed to ``model`` in a future release, at which point use of ``build_fn`` will raise an Error instead.\n",
      "  X, y = self._initialize(X, y)\n",
      "C:\\Users\\elwady\\anaconda3\\Lib\\site-packages\\scikeras\\wrappers.py:915: UserWarning: ``build_fn`` will be renamed to ``model`` in a future release, at which point use of ``build_fn`` will raise an Error instead.\n",
      "  X, y = self._initialize(X, y)\n",
      "C:\\Users\\elwady\\anaconda3\\Lib\\site-packages\\scikeras\\wrappers.py:915: UserWarning: ``build_fn`` will be renamed to ``model`` in a future release, at which point use of ``build_fn`` will raise an Error instead.\n",
      "  X, y = self._initialize(X, y)\n",
      "C:\\Users\\elwady\\anaconda3\\Lib\\site-packages\\scikeras\\wrappers.py:915: UserWarning: ``build_fn`` will be renamed to ``model`` in a future release, at which point use of ``build_fn`` will raise an Error instead.\n",
      "  X, y = self._initialize(X, y)\n",
      "C:\\Users\\elwady\\anaconda3\\Lib\\site-packages\\scikeras\\wrappers.py:915: UserWarning: ``build_fn`` will be renamed to ``model`` in a future release, at which point use of ``build_fn`` will raise an Error instead.\n",
      "  X, y = self._initialize(X, y)\n",
      "C:\\Users\\elwady\\anaconda3\\Lib\\site-packages\\scikeras\\wrappers.py:915: UserWarning: ``build_fn`` will be renamed to ``model`` in a future release, at which point use of ``build_fn`` will raise an Error instead.\n",
      "  X, y = self._initialize(X, y)\n",
      "C:\\Users\\elwady\\anaconda3\\Lib\\site-packages\\scikeras\\wrappers.py:915: UserWarning: ``build_fn`` will be renamed to ``model`` in a future release, at which point use of ``build_fn`` will raise an Error instead.\n",
      "  X, y = self._initialize(X, y)\n",
      "C:\\Users\\elwady\\anaconda3\\Lib\\site-packages\\scikeras\\wrappers.py:915: UserWarning: ``build_fn`` will be renamed to ``model`` in a future release, at which point use of ``build_fn`` will raise an Error instead.\n",
      "  X, y = self._initialize(X, y)\n",
      "C:\\Users\\elwady\\anaconda3\\Lib\\site-packages\\scikeras\\wrappers.py:915: UserWarning: ``build_fn`` will be renamed to ``model`` in a future release, at which point use of ``build_fn`` will raise an Error instead.\n",
      "  X, y = self._initialize(X, y)\n",
      "C:\\Users\\elwady\\anaconda3\\Lib\\site-packages\\scikeras\\wrappers.py:915: UserWarning: ``build_fn`` will be renamed to ``model`` in a future release, at which point use of ``build_fn`` will raise an Error instead.\n",
      "  X, y = self._initialize(X, y)\n",
      "C:\\Users\\elwady\\anaconda3\\Lib\\site-packages\\scikeras\\wrappers.py:915: UserWarning: ``build_fn`` will be renamed to ``model`` in a future release, at which point use of ``build_fn`` will raise an Error instead.\n",
      "  X, y = self._initialize(X, y)\n",
      "C:\\Users\\elwady\\anaconda3\\Lib\\site-packages\\scikeras\\wrappers.py:915: UserWarning: ``build_fn`` will be renamed to ``model`` in a future release, at which point use of ``build_fn`` will raise an Error instead.\n",
      "  X, y = self._initialize(X, y)\n",
      "C:\\Users\\elwady\\anaconda3\\Lib\\site-packages\\scikeras\\wrappers.py:915: UserWarning: ``build_fn`` will be renamed to ``model`` in a future release, at which point use of ``build_fn`` will raise an Error instead.\n",
      "  X, y = self._initialize(X, y)\n",
      "C:\\Users\\elwady\\anaconda3\\Lib\\site-packages\\scikeras\\wrappers.py:915: UserWarning: ``build_fn`` will be renamed to ``model`` in a future release, at which point use of ``build_fn`` will raise an Error instead.\n",
      "  X, y = self._initialize(X, y)\n",
      "C:\\Users\\elwady\\anaconda3\\Lib\\site-packages\\scikeras\\wrappers.py:915: UserWarning: ``build_fn`` will be renamed to ``model`` in a future release, at which point use of ``build_fn`` will raise an Error instead.\n",
      "  X, y = self._initialize(X, y)\n",
      "C:\\Users\\elwady\\anaconda3\\Lib\\site-packages\\scikeras\\wrappers.py:915: UserWarning: ``build_fn`` will be renamed to ``model`` in a future release, at which point use of ``build_fn`` will raise an Error instead.\n",
      "  X, y = self._initialize(X, y)\n",
      "C:\\Users\\elwady\\anaconda3\\Lib\\site-packages\\scikeras\\wrappers.py:915: UserWarning: ``build_fn`` will be renamed to ``model`` in a future release, at which point use of ``build_fn`` will raise an Error instead.\n",
      "  X, y = self._initialize(X, y)\n",
      "C:\\Users\\elwady\\anaconda3\\Lib\\site-packages\\scikeras\\wrappers.py:915: UserWarning: ``build_fn`` will be renamed to ``model`` in a future release, at which point use of ``build_fn`` will raise an Error instead.\n",
      "  X, y = self._initialize(X, y)\n"
     ]
    },
    {
     "name": "stdout",
     "output_type": "stream",
     "text": [
      "best : 0.731771 using {'dropout_rate': 0.3, 'weight_constraint': 2}\n",
      "0.716146 (0.010253) with: {'dropout_rate': 0.2, 'weight_constraint': 1}\n",
      "0.727865 (0.017566) with: {'dropout_rate': 0.2, 'weight_constraint': 2}\n",
      "0.720052 (0.003683) with: {'dropout_rate': 0.2, 'weight_constraint': 3}\n",
      "0.727865 (0.015733) with: {'dropout_rate': 0.2, 'weight_constraint': 4}\n",
      "0.712240 (0.012890) with: {'dropout_rate': 0.2, 'weight_constraint': 5}\n",
      "0.699219 (0.008438) with: {'dropout_rate': 0.3, 'weight_constraint': 1}\n",
      "0.731771 (0.011201) with: {'dropout_rate': 0.3, 'weight_constraint': 2}\n",
      "0.714844 (0.012758) with: {'dropout_rate': 0.3, 'weight_constraint': 3}\n",
      "0.708333 (0.008027) with: {'dropout_rate': 0.3, 'weight_constraint': 4}\n",
      "0.705729 (0.007366) with: {'dropout_rate': 0.3, 'weight_constraint': 5}\n",
      "0.704427 (0.010253) with: {'dropout_rate': 0.4, 'weight_constraint': 1}\n",
      "0.707031 (0.008438) with: {'dropout_rate': 0.4, 'weight_constraint': 2}\n",
      "0.721354 (0.008027) with: {'dropout_rate': 0.4, 'weight_constraint': 3}\n",
      "0.701823 (0.006639) with: {'dropout_rate': 0.4, 'weight_constraint': 4}\n",
      "0.707031 (0.011500) with: {'dropout_rate': 0.4, 'weight_constraint': 5}\n",
      "0.708333 (0.009744) with: {'dropout_rate': 0.5, 'weight_constraint': 1}\n",
      "0.699219 (0.008438) with: {'dropout_rate': 0.5, 'weight_constraint': 2}\n",
      "0.703125 (0.003189) with: {'dropout_rate': 0.5, 'weight_constraint': 3}\n",
      "0.714844 (0.008438) with: {'dropout_rate': 0.5, 'weight_constraint': 4}\n",
      "0.707031 (0.013902) with: {'dropout_rate': 0.5, 'weight_constraint': 5}\n"
     ]
    }
   ],
   "source": [
    "def Creat_model(dropout_rate=0.0, weight_constraint=0):\n",
    "\n",
    "    # creat model\n",
    "    model = Sequential()\n",
    "    model.add(Dense(12, kernel_initializer='uniform', activation='softplus', input_dim=8, kernel_constraint=max_norm(weight_constraint)))\n",
    "    model.add(Dropout(dropout_rate))\n",
    "    model.add (Dense(1, kernel_initializer='uniform', activation='sigmoid'))\n",
    "    # compile model\n",
    "\n",
    "    model.compile(loss='binary_crossentropy', optimizer='adam', metrics=['accuracy'])\n",
    "    return model\n",
    "\n",
    "# fix random seed for reproducibility\n",
    "seed = 7\n",
    "np.random.seed(seed)\n",
    "# load dataset\n",
    "dataset = np.loadtxt(\"pima-indians-diabetes.csv\", delimiter=\",\")\n",
    "# split the dataset to features and target\n",
    "X = dataset[:, 0:8]  # input features\n",
    "y = dataset[:, 8 ]    # target\n",
    "\n",
    "# creat model\n",
    "#model = KerasClassifier(build_fn=Creat_model, batch_size=20, epochs=150, verbose=0)\n",
    "model = KerasClassifier(model=Creat_model, batch_size=20, epochs=150, verbose=0, dropout_rate=0.0, weight_constraint=0)\n",
    "\n",
    "# define the grid serach parameters\n",
    "weight_constraint = [1, 2, 3, 4, 5]\n",
    "dropout_rate = [0.2, 0.3, 0.4, 0.5]\n",
    "param_grid = dict(weight_constraint=weight_constraint, dropout_rate=dropout_rate)\n",
    "grid = GridSearchCV(estimator=model, param_grid=param_grid, n_jobs=-1, cv=3)\n",
    "grid_result = grid.fit(X, y)\n",
    "\n",
    "\n",
    "# summarize results\n",
    "print(\"best : %f using %s\" % (grid_result.best_score_, grid_result.best_params_ ))\n",
    "means = grid_result.cv_results_['mean_test_score']\n",
    "stds = grid_result.cv_results_['std_test_score']\n",
    "params = grid_result.cv_results_['params']\n",
    "for mean, stdev , param in zip(means, stds, params):\n",
    "  print(\"%f (%f) with: %r\" % (mean, stdev, param))"
   ]
  },
  {
   "cell_type": "markdown",
   "id": "affc6c11-689b-4a14-9e69-2fb80c719ccf",
   "metadata": {
    "id": "affc6c11-689b-4a14-9e69-2fb80c719ccf"
   },
   "source": [
    "# 5- Tuning number of neurons"
   ]
  },
  {
   "cell_type": "code",
   "execution_count": 6,
   "id": "97848db0-5cf6-4f3f-8e8e-021cdd3ca22c",
   "metadata": {
    "colab": {
     "base_uri": "https://localhost:8080/"
    },
    "id": "97848db0-5cf6-4f3f-8e8e-021cdd3ca22c",
    "outputId": "a13640f8-3a2e-4346-d40f-466c32e9c0b9"
   },
   "outputs": [
    {
     "name": "stdout",
     "output_type": "stream",
     "text": [
      "best : 0.725260 using {'neurons': 20}\n",
      "0.651042 (0.001841) with: {'neurons': 1}\n",
      "0.710938 (0.011500) with: {'neurons': 5}\n",
      "0.718750 (0.019401) with: {'neurons': 10}\n",
      "0.725260 (0.027126) with: {'neurons': 20}\n",
      "0.721354 (0.027126) with: {'neurons': 30}\n"
     ]
    }
   ],
   "source": [
    "def Creat_model(neurons=1):\n",
    "    # creat model\n",
    "    model = Sequential()\n",
    "    model.add(Dense(neurons, kernel_initializer='uniform', activation='softplus', input_dim=8, kernel_constraint=max_norm(2)))\n",
    "    model.add(Dropout(0.3))\n",
    "    model.add (Dense(1, kernel_initializer='uniform', activation='sigmoid'))\n",
    "    # compile model\n",
    "\n",
    "    model.compile(loss='binary_crossentropy', optimizer='adam', metrics=['accuracy'])\n",
    "    return model\n",
    "\n",
    "# fix random seed for reproducibility\n",
    "seed = 7\n",
    "np.random.seed(seed)\n",
    "# load dataset\n",
    "dataset = np.loadtxt(\"pima-indians-diabetes.csv\", delimiter=\",\")\n",
    "# split the dataset to features and target\n",
    "X = dataset[:, 0:8]  # input features\n",
    "y = dataset[:, 8 ]    # target\n",
    "\n",
    "# creat model\n",
    "#model = KerasClassifier(build_fn=Creat_model, batch_size=20, epochs=150, verbose=0)\n",
    "model = KerasClassifier(model=Creat_model, batch_size=20, epochs=150, verbose=0, neurons=1)\n",
    "\n",
    "# define the grid serach parameters\n",
    "neurons = [1, 5, 10, 20, 30]\n",
    "param_grid = dict(neurons=neurons)\n",
    "grid = GridSearchCV(estimator=model, param_grid=param_grid, n_jobs=-1, cv=3)\n",
    "grid_result = grid.fit(X, y)\n",
    "\n",
    "\n",
    "# summarize results\n",
    "print(\"best : %f using %s\" % (grid_result.best_score_, grid_result.best_params_ ))\n",
    "means = grid_result.cv_results_['mean_test_score']\n",
    "stds = grid_result.cv_results_['std_test_score']\n",
    "params = grid_result.cv_results_['params']\n",
    "for mean, stdev , param in zip(means, stds, params):\n",
    "  print(\"%f (%f) with: %r\" % (mean, stdev, param))"
   ]
  },
  {
   "cell_type": "markdown",
   "id": "fbc5013c-e4a0-4f13-80be-6197e08a5aef",
   "metadata": {
    "id": "fbc5013c-e4a0-4f13-80be-6197e08a5aef"
   },
   "source": [
    "# 6- Tuning learning rate and momentum with SGD optimizer"
   ]
  },
  {
   "cell_type": "code",
   "execution_count": 7,
   "id": "ae935f16-e582-4c14-afd8-529902de8735",
   "metadata": {
    "colab": {
     "base_uri": "https://localhost:8080/"
    },
    "id": "ae935f16-e582-4c14-afd8-529902de8735",
    "outputId": "ee66fd42-ed38-4793-f90d-cb018894b27b"
   },
   "outputs": [
    {
     "name": "stderr",
     "output_type": "stream",
     "text": [
      "/usr/local/lib/python3.10/dist-packages/joblib/externals/loky/process_executor.py:752: UserWarning: A worker stopped while some jobs were given to the executor. This can be caused by a too short worker timeout or by a memory leak.\n",
      "  warnings.warn(\n"
     ]
    },
    {
     "name": "stdout",
     "output_type": "stream",
     "text": [
      "best : 0.734375 using {'learning_rate': 0.01, 'momentum': 0.8}\n",
      "0.723958 (0.027498) with: {'learning_rate': 0.001, 'momentum': 0.0}\n",
      "0.713542 (0.021236) with: {'learning_rate': 0.001, 'momentum': 0.2}\n",
      "0.723958 (0.018688) with: {'learning_rate': 0.001, 'momentum': 0.4}\n",
      "0.731771 (0.016367) with: {'learning_rate': 0.001, 'momentum': 0.6}\n",
      "0.721354 (0.018688) with: {'learning_rate': 0.001, 'momentum': 0.8}\n",
      "0.733073 (0.021236) with: {'learning_rate': 0.001, 'momentum': 0.9}\n",
      "0.723958 (0.027126) with: {'learning_rate': 0.01, 'momentum': 0.0}\n",
      "0.721354 (0.023510) with: {'learning_rate': 0.01, 'momentum': 0.2}\n",
      "0.720052 (0.024360) with: {'learning_rate': 0.01, 'momentum': 0.4}\n",
      "0.726562 (0.027251) with: {'learning_rate': 0.01, 'momentum': 0.6}\n",
      "0.734375 (0.027251) with: {'learning_rate': 0.01, 'momentum': 0.8}\n",
      "0.721354 (0.016367) with: {'learning_rate': 0.01, 'momentum': 0.9}\n",
      "0.721354 (0.024360) with: {'learning_rate': 0.1, 'momentum': 0.0}\n",
      "0.713542 (0.023510) with: {'learning_rate': 0.1, 'momentum': 0.2}\n",
      "0.720052 (0.028587) with: {'learning_rate': 0.1, 'momentum': 0.4}\n",
      "0.731771 (0.023073) with: {'learning_rate': 0.1, 'momentum': 0.6}\n",
      "0.725260 (0.023939) with: {'learning_rate': 0.1, 'momentum': 0.8}\n",
      "0.714844 (0.022999) with: {'learning_rate': 0.1, 'momentum': 0.9}\n",
      "0.713542 (0.025976) with: {'learning_rate': 0.2, 'momentum': 0.0}\n",
      "0.718750 (0.028348) with: {'learning_rate': 0.2, 'momentum': 0.2}\n",
      "0.718750 (0.016573) with: {'learning_rate': 0.2, 'momentum': 0.4}\n",
      "0.727865 (0.023939) with: {'learning_rate': 0.2, 'momentum': 0.6}\n",
      "0.726562 (0.019401) with: {'learning_rate': 0.2, 'momentum': 0.8}\n",
      "0.727865 (0.016367) with: {'learning_rate': 0.2, 'momentum': 0.9}\n",
      "0.725260 (0.022628) with: {'learning_rate': 0.3, 'momentum': 0.0}\n",
      "0.730469 (0.028705) with: {'learning_rate': 0.3, 'momentum': 0.2}\n",
      "0.727865 (0.035277) with: {'learning_rate': 0.3, 'momentum': 0.4}\n",
      "0.721354 (0.023939) with: {'learning_rate': 0.3, 'momentum': 0.6}\n",
      "0.718750 (0.017758) with: {'learning_rate': 0.3, 'momentum': 0.8}\n",
      "0.729167 (0.025780) with: {'learning_rate': 0.3, 'momentum': 0.9}\n"
     ]
    }
   ],
   "source": [
    "def Creat_model(learning_rate=0.1, momentum=0.0):\n",
    "    # creat model\n",
    "    model = Sequential()\n",
    "    model.add(Dense(20, kernel_initializer='uniform', activation='softplus', input_dim=8, kernel_constraint=max_norm(2)))\n",
    "    model.add(Dropout(0.3))\n",
    "    model.add (Dense(1, kernel_initializer='uniform', activation='sigmoid'))\n",
    "    # compile model\n",
    "    optimizer = SGD(learning_rate=learning_rate, momentum=momentum)\n",
    "    model.compile(loss='binary_crossentropy', optimizer='adam', metrics=['accuracy'])\n",
    "    return model\n",
    "\n",
    "# fix random seed for reproducibility\n",
    "seed = 7\n",
    "np.random.seed(seed)\n",
    "# load dataset\n",
    "dataset = np.loadtxt(\"pima-indians-diabetes.csv\", delimiter=\",\")\n",
    "# split the dataset to features and target\n",
    "X = dataset[:, 0:8]  # input features\n",
    "y = dataset[:, 8 ]    # target\n",
    "\n",
    "# creat model\n",
    "#model = KerasClassifier(build_fn=Creat_model, batch_size=20, epochs=150, verbose=0)\n",
    "model = KerasClassifier(model=Creat_model, batch_size=20, epochs=150, verbose=0, learning_rate=0.1, momentum=0.0)\n",
    "\n",
    "# define the grid serach parameters\n",
    "learning_rate = [0.001, 0.01, 0.1, 0.2, 0.3]\n",
    "momentum = [0.0, 0.2, 0.4, 0.6, 0.8, 0.9]\n",
    "param_grid = dict(learning_rate=learning_rate, momentum=momentum)\n",
    "grid = GridSearchCV(estimator=model, param_grid=param_grid, n_jobs=-1, cv=3)\n",
    "grid_result = grid.fit(X, y)\n",
    "\n",
    "\n",
    "# summarize results\n",
    "print(\"best : %f using %s\" % (grid_result.best_score_, grid_result.best_params_ ))\n",
    "means = grid_result.cv_results_['mean_test_score']\n",
    "stds = grid_result.cv_results_['std_test_score']\n",
    "params = grid_result.cv_results_['params']\n",
    "for mean, stdev , param in zip(means, stds, params):\n",
    "  print(\"%f (%f) with: %r\" % (mean, stdev, param))"
   ]
  },
  {
   "cell_type": "code",
   "execution_count": null,
   "id": "0822561f-be42-4d56-864c-097d8d1d41c8",
   "metadata": {
    "id": "0822561f-be42-4d56-864c-097d8d1d41c8"
   },
   "outputs": [],
   "source": []
  },
  {
   "cell_type": "code",
   "execution_count": null,
   "id": "3ccd5d79-24df-4027-9fbb-136a04171f75",
   "metadata": {
    "id": "3ccd5d79-24df-4027-9fbb-136a04171f75"
   },
   "outputs": [],
   "source": []
  },
  {
   "cell_type": "code",
   "execution_count": null,
   "id": "aaa0877f-1aef-4d12-ad00-9b41d578d50b",
   "metadata": {
    "id": "aaa0877f-1aef-4d12-ad00-9b41d578d50b"
   },
   "outputs": [],
   "source": []
  },
  {
   "cell_type": "code",
   "execution_count": null,
   "id": "9d32eccd-0ec5-4fcc-bbe4-ec0dd89fafd4",
   "metadata": {
    "id": "9d32eccd-0ec5-4fcc-bbe4-ec0dd89fafd4"
   },
   "outputs": [],
   "source": []
  },
  {
   "cell_type": "code",
   "execution_count": null,
   "id": "2dab27b1-825f-459d-bc07-630a9593b34f",
   "metadata": {
    "id": "2dab27b1-825f-459d-bc07-630a9593b34f"
   },
   "outputs": [],
   "source": []
  },
  {
   "cell_type": "code",
   "execution_count": null,
   "id": "8cf6ef49-f417-45e2-b50a-44e32d71b714",
   "metadata": {
    "id": "8cf6ef49-f417-45e2-b50a-44e32d71b714"
   },
   "outputs": [],
   "source": []
  },
  {
   "cell_type": "code",
   "execution_count": null,
   "id": "b7cda0ff-f860-40d4-91b2-12d0f8afe62e",
   "metadata": {
    "id": "b7cda0ff-f860-40d4-91b2-12d0f8afe62e"
   },
   "outputs": [],
   "source": []
  },
  {
   "cell_type": "code",
   "execution_count": null,
   "id": "b52f38d9-b8fb-4658-b881-21fc0ff847ce",
   "metadata": {
    "id": "b52f38d9-b8fb-4658-b881-21fc0ff847ce"
   },
   "outputs": [],
   "source": []
  },
  {
   "cell_type": "code",
   "execution_count": null,
   "id": "43c50e1e-00d3-480a-a37e-9d8245a10fa7",
   "metadata": {
    "id": "43c50e1e-00d3-480a-a37e-9d8245a10fa7"
   },
   "outputs": [],
   "source": []
  },
  {
   "cell_type": "code",
   "execution_count": null,
   "id": "048839dd-d383-483a-b8ba-45b6a52b7ea5",
   "metadata": {
    "id": "048839dd-d383-483a-b8ba-45b6a52b7ea5"
   },
   "outputs": [],
   "source": []
  },
  {
   "cell_type": "code",
   "execution_count": null,
   "id": "31376fd4-1f2e-4182-bf93-74b44763b04e",
   "metadata": {
    "id": "31376fd4-1f2e-4182-bf93-74b44763b04e"
   },
   "outputs": [],
   "source": []
  },
  {
   "cell_type": "code",
   "execution_count": null,
   "id": "7ae3ead7-4bb8-4bc5-ae3c-7905209d03e7",
   "metadata": {
    "id": "7ae3ead7-4bb8-4bc5-ae3c-7905209d03e7"
   },
   "outputs": [],
   "source": []
  }
 ],
 "metadata": {
  "accelerator": "GPU",
  "colab": {
   "gpuType": "T4",
   "provenance": []
  },
  "kernelspec": {
   "display_name": "Python 3 (ipykernel)",
   "language": "python",
   "name": "python3"
  },
  "language_info": {
   "codemirror_mode": {
    "name": "ipython",
    "version": 3
   },
   "file_extension": ".py",
   "mimetype": "text/x-python",
   "name": "python",
   "nbconvert_exporter": "python",
   "pygments_lexer": "ipython3",
   "version": "3.11.5"
  },
  "widgets": {
   "application/vnd.jupyter.widget-state+json": {
    "state": {},
    "version_major": 2,
    "version_minor": 0
   }
  }
 },
 "nbformat": 4,
 "nbformat_minor": 5
}
